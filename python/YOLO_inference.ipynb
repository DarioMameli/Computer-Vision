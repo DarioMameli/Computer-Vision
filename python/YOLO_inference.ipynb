{
 "cells": [
  {
   "cell_type": "markdown",
   "id": "150a58b6-c274-4688-8ab0-93a215bf3475",
   "metadata": {},
   "source": [
    "Created by DARIO MAMELI"
   ]
  },
  {
   "cell_type": "code",
   "execution_count": 1,
   "id": "8cfd9115-6c69-4d11-8d71-c46f74ff7912",
   "metadata": {},
   "outputs": [
    {
     "name": "stdout",
     "output_type": "stream",
     "text": [
      "Requirement already satisfied: matplotlib>=3.3.0 in c:\\users\\dario\\anaconda3\\lib\\site-packages (from -r requirements.txt (line 5)) (3.5.2)\n",
      "Requirement already satisfied: numpy>=1.22.2 in c:\\users\\dario\\anaconda3\\lib\\site-packages (from -r requirements.txt (line 6)) (1.23.5)\n",
      "Requirement already satisfied: opencv-python>=4.6.0 in c:\\users\\dario\\anaconda3\\lib\\site-packages (from -r requirements.txt (line 7)) (4.8.0.76)\n",
      "Requirement already satisfied: pillow>=7.1.2 in c:\\users\\dario\\anaconda3\\lib\\site-packages (from -r requirements.txt (line 8)) (9.2.0)\n",
      "Requirement already satisfied: pyyaml>=5.3.1 in c:\\users\\dario\\anaconda3\\lib\\site-packages (from -r requirements.txt (line 9)) (6.0)\n",
      "Requirement already satisfied: requests>=2.23.0 in c:\\users\\dario\\anaconda3\\lib\\site-packages (from -r requirements.txt (line 10)) (2.29.0)\n",
      "Requirement already satisfied: scipy>=1.4.1 in c:\\users\\dario\\anaconda3\\lib\\site-packages (from -r requirements.txt (line 11)) (1.9.1)\n",
      "Requirement already satisfied: torch>=1.8.0 in c:\\users\\dario\\anaconda3\\lib\\site-packages (from -r requirements.txt (line 12)) (2.0.1)\n",
      "Requirement already satisfied: torchvision>=0.9.0 in c:\\users\\dario\\anaconda3\\lib\\site-packages (from -r requirements.txt (line 13)) (0.15.2)\n",
      "Requirement already satisfied: tqdm>=4.64.0 in c:\\users\\dario\\anaconda3\\lib\\site-packages (from -r requirements.txt (line 14)) (4.64.1)\n",
      "Requirement already satisfied: pandas>=1.1.4 in c:\\users\\dario\\anaconda3\\lib\\site-packages (from -r requirements.txt (line 23)) (1.4.4)\n",
      "Requirement already satisfied: seaborn>=0.11.0 in c:\\users\\dario\\anaconda3\\lib\\site-packages (from -r requirements.txt (line 24)) (0.11.2)\n",
      "Requirement already satisfied: psutil in c:\\users\\dario\\anaconda3\\lib\\site-packages (from -r requirements.txt (line 39)) (5.9.0)\n",
      "Requirement already satisfied: py-cpuinfo in c:\\users\\dario\\anaconda3\\lib\\site-packages (from -r requirements.txt (line 40)) (9.0.0)\n",
      "Requirement already satisfied: packaging>=20.0 in c:\\users\\dario\\anaconda3\\lib\\site-packages (from matplotlib>=3.3.0->-r requirements.txt (line 5)) (21.3)\n",
      "Requirement already satisfied: pyparsing>=2.2.1 in c:\\users\\dario\\anaconda3\\lib\\site-packages (from matplotlib>=3.3.0->-r requirements.txt (line 5)) (3.0.9)\n",
      "Requirement already satisfied: python-dateutil>=2.7 in c:\\users\\dario\\anaconda3\\lib\\site-packages (from matplotlib>=3.3.0->-r requirements.txt (line 5)) (2.8.2)\n",
      "Requirement already satisfied: kiwisolver>=1.0.1 in c:\\users\\dario\\anaconda3\\lib\\site-packages (from matplotlib>=3.3.0->-r requirements.txt (line 5)) (1.4.2)\n",
      "Requirement already satisfied: fonttools>=4.22.0 in c:\\users\\dario\\anaconda3\\lib\\site-packages (from matplotlib>=3.3.0->-r requirements.txt (line 5)) (4.25.0)\n",
      "Requirement already satisfied: cycler>=0.10 in c:\\users\\dario\\anaconda3\\lib\\site-packages (from matplotlib>=3.3.0->-r requirements.txt (line 5)) (0.11.0)\n",
      "Requirement already satisfied: urllib3<1.27,>=1.21.1 in c:\\users\\dario\\anaconda3\\lib\\site-packages (from requests>=2.23.0->-r requirements.txt (line 10)) (1.26.11)\n",
      "Requirement already satisfied: certifi>=2017.4.17 in c:\\users\\dario\\anaconda3\\lib\\site-packages (from requests>=2.23.0->-r requirements.txt (line 10)) (2022.9.14)\n",
      "Requirement already satisfied: charset-normalizer<4,>=2 in c:\\users\\dario\\anaconda3\\lib\\site-packages (from requests>=2.23.0->-r requirements.txt (line 10)) (3.1.0)\n",
      "Requirement already satisfied: idna<4,>=2.5 in c:\\users\\dario\\anaconda3\\lib\\site-packages (from requests>=2.23.0->-r requirements.txt (line 10)) (3.3)\n",
      "Requirement already satisfied: sympy in c:\\users\\dario\\anaconda3\\lib\\site-packages (from torch>=1.8.0->-r requirements.txt (line 12)) (1.10.1)\n",
      "Requirement already satisfied: jinja2 in c:\\users\\dario\\anaconda3\\lib\\site-packages (from torch>=1.8.0->-r requirements.txt (line 12)) (2.11.3)\n",
      "Requirement already satisfied: filelock in c:\\users\\dario\\anaconda3\\lib\\site-packages (from torch>=1.8.0->-r requirements.txt (line 12)) (3.6.0)\n",
      "Requirement already satisfied: typing-extensions in c:\\users\\dario\\anaconda3\\lib\\site-packages (from torch>=1.8.0->-r requirements.txt (line 12)) (4.5.0)\n",
      "Requirement already satisfied: networkx in c:\\users\\dario\\anaconda3\\lib\\site-packages (from torch>=1.8.0->-r requirements.txt (line 12)) (2.8.4)\n",
      "Requirement already satisfied: colorama in c:\\users\\dario\\anaconda3\\lib\\site-packages (from tqdm>=4.64.0->-r requirements.txt (line 14)) (0.4.6)\n",
      "Requirement already satisfied: pytz>=2020.1 in c:\\users\\dario\\anaconda3\\lib\\site-packages (from pandas>=1.1.4->-r requirements.txt (line 23)) (2022.1)\n",
      "Requirement already satisfied: six>=1.5 in c:\\users\\dario\\anaconda3\\lib\\site-packages (from python-dateutil>=2.7->matplotlib>=3.3.0->-r requirements.txt (line 5)) (1.16.0)\n",
      "Requirement already satisfied: MarkupSafe>=0.23 in c:\\users\\dario\\anaconda3\\lib\\site-packages (from jinja2->torch>=1.8.0->-r requirements.txt (line 12)) (2.0.1)\n",
      "Requirement already satisfied: mpmath>=0.19 in c:\\users\\dario\\anaconda3\\lib\\site-packages (from sympy->torch>=1.8.0->-r requirements.txt (line 12)) (1.2.1)\n"
     ]
    },
    {
     "name": "stderr",
     "output_type": "stream",
     "text": [
      "WARNING: Ignoring invalid distribution -ensorflow-intel (c:\\users\\dario\\appdata\\roaming\\python\\python39\\site-packages)\n",
      "WARNING: Ignoring invalid distribution -ensorflow-intel (c:\\users\\dario\\appdata\\roaming\\python\\python39\\site-packages)\n",
      "WARNING: Ignoring invalid distribution -ensorflow-intel (c:\\users\\dario\\appdata\\roaming\\python\\python39\\site-packages)\n",
      "WARNING: Ignoring invalid distribution -ensorflow-intel (c:\\users\\dario\\appdata\\roaming\\python\\python39\\site-packages)\n",
      "WARNING: Ignoring invalid distribution -ensorflow-intel (c:\\users\\dario\\appdata\\roaming\\python\\python39\\site-packages)\n",
      "WARNING: Ignoring invalid distribution -ensorflow-intel (c:\\users\\dario\\appdata\\roaming\\python\\python39\\site-packages)\n"
     ]
    },
    {
     "name": "stdout",
     "output_type": "stream",
     "text": [
      "Requirement already satisfied: ultralytics==8.0.20 in c:\\users\\dario\\anaconda3\\lib\\site-packages (8.0.20)\n",
      "Requirement already satisfied: scipy>=1.4.1 in c:\\users\\dario\\anaconda3\\lib\\site-packages (from ultralytics==8.0.20) (1.9.1)\n",
      "Requirement already satisfied: thop>=0.1.1 in c:\\users\\dario\\anaconda3\\lib\\site-packages (from ultralytics==8.0.20) (0.1.1.post2209072238)\n",
      "Requirement already satisfied: matplotlib>=3.2.2 in c:\\users\\dario\\anaconda3\\lib\\site-packages (from ultralytics==8.0.20) (3.5.2)\n",
      "Requirement already satisfied: seaborn>=0.11.0 in c:\\users\\dario\\anaconda3\\lib\\site-packages (from ultralytics==8.0.20) (0.11.2)\n",
      "Requirement already satisfied: torch>=1.7.0 in c:\\users\\dario\\anaconda3\\lib\\site-packages (from ultralytics==8.0.20) (2.0.1)\n",
      "Requirement already satisfied: torchvision>=0.8.1 in c:\\users\\dario\\anaconda3\\lib\\site-packages (from ultralytics==8.0.20) (0.15.2)\n",
      "Requirement already satisfied: ipython in c:\\users\\dario\\anaconda3\\lib\\site-packages (from ultralytics==8.0.20) (7.31.1)\n",
      "Requirement already satisfied: sentry-sdk in c:\\users\\dario\\anaconda3\\lib\\site-packages (from ultralytics==8.0.20) (1.31.0)\n",
      "Requirement already satisfied: pandas>=1.1.4 in c:\\users\\dario\\anaconda3\\lib\\site-packages (from ultralytics==8.0.20) (1.4.4)\n",
      "Requirement already satisfied: tensorboard>=2.4.1 in c:\\users\\dario\\appdata\\roaming\\python\\python39\\site-packages (from ultralytics==8.0.20) (2.10.1)\n",
      "Requirement already satisfied: numpy>=1.18.5 in c:\\users\\dario\\anaconda3\\lib\\site-packages (from ultralytics==8.0.20) (1.23.5)\n",
      "Requirement already satisfied: tqdm>=4.64.0 in c:\\users\\dario\\anaconda3\\lib\\site-packages (from ultralytics==8.0.20) (4.64.1)\n",
      "Requirement already satisfied: PyYAML>=5.3.1 in c:\\users\\dario\\anaconda3\\lib\\site-packages (from ultralytics==8.0.20) (6.0)\n",
      "Requirement already satisfied: requests>=2.23.0 in c:\\users\\dario\\anaconda3\\lib\\site-packages (from ultralytics==8.0.20) (2.29.0)\n",
      "Requirement already satisfied: psutil in c:\\users\\dario\\anaconda3\\lib\\site-packages (from ultralytics==8.0.20) (5.9.0)\n",
      "Requirement already satisfied: opencv-python>=4.6.0 in c:\\users\\dario\\anaconda3\\lib\\site-packages (from ultralytics==8.0.20) (4.8.0.76)\n",
      "Requirement already satisfied: Pillow>=7.1.2 in c:\\users\\dario\\anaconda3\\lib\\site-packages (from ultralytics==8.0.20) (9.2.0)\n",
      "Requirement already satisfied: python-dateutil>=2.7 in c:\\users\\dario\\anaconda3\\lib\\site-packages (from matplotlib>=3.2.2->ultralytics==8.0.20) (2.8.2)\n",
      "Requirement already satisfied: kiwisolver>=1.0.1 in c:\\users\\dario\\anaconda3\\lib\\site-packages (from matplotlib>=3.2.2->ultralytics==8.0.20) (1.4.2)\n",
      "Requirement already satisfied: cycler>=0.10 in c:\\users\\dario\\anaconda3\\lib\\site-packages (from matplotlib>=3.2.2->ultralytics==8.0.20) (0.11.0)\n",
      "Requirement already satisfied: fonttools>=4.22.0 in c:\\users\\dario\\anaconda3\\lib\\site-packages (from matplotlib>=3.2.2->ultralytics==8.0.20) (4.25.0)\n",
      "Requirement already satisfied: packaging>=20.0 in c:\\users\\dario\\anaconda3\\lib\\site-packages (from matplotlib>=3.2.2->ultralytics==8.0.20) (21.3)\n",
      "Requirement already satisfied: pyparsing>=2.2.1 in c:\\users\\dario\\anaconda3\\lib\\site-packages (from matplotlib>=3.2.2->ultralytics==8.0.20) (3.0.9)\n",
      "Requirement already satisfied: pytz>=2020.1 in c:\\users\\dario\\anaconda3\\lib\\site-packages (from pandas>=1.1.4->ultralytics==8.0.20) (2022.1)\n",
      "Requirement already satisfied: charset-normalizer<4,>=2 in c:\\users\\dario\\anaconda3\\lib\\site-packages (from requests>=2.23.0->ultralytics==8.0.20) (3.1.0)\n",
      "Requirement already satisfied: urllib3<1.27,>=1.21.1 in c:\\users\\dario\\anaconda3\\lib\\site-packages (from requests>=2.23.0->ultralytics==8.0.20) (1.26.11)\n",
      "Requirement already satisfied: idna<4,>=2.5 in c:\\users\\dario\\anaconda3\\lib\\site-packages (from requests>=2.23.0->ultralytics==8.0.20) (3.3)\n",
      "Requirement already satisfied: certifi>=2017.4.17 in c:\\users\\dario\\anaconda3\\lib\\site-packages (from requests>=2.23.0->ultralytics==8.0.20) (2022.9.14)\n",
      "Requirement already satisfied: google-auth-oauthlib<0.5,>=0.4.1 in c:\\users\\dario\\appdata\\roaming\\python\\python39\\site-packages (from tensorboard>=2.4.1->ultralytics==8.0.20) (0.4.6)\n",
      "Requirement already satisfied: absl-py>=0.4 in c:\\users\\dario\\appdata\\roaming\\python\\python39\\site-packages (from tensorboard>=2.4.1->ultralytics==8.0.20) (1.4.0)\n",
      "Requirement already satisfied: google-auth<3,>=1.6.3 in c:\\users\\dario\\appdata\\roaming\\python\\python39\\site-packages (from tensorboard>=2.4.1->ultralytics==8.0.20) (2.17.3)\n",
      "Requirement already satisfied: setuptools>=41.0.0 in c:\\users\\dario\\anaconda3\\lib\\site-packages (from tensorboard>=2.4.1->ultralytics==8.0.20) (63.4.1)\n",
      "Requirement already satisfied: tensorboard-data-server<0.7.0,>=0.6.0 in c:\\users\\dario\\appdata\\roaming\\python\\python39\\site-packages (from tensorboard>=2.4.1->ultralytics==8.0.20) (0.6.1)\n",
      "Requirement already satisfied: wheel>=0.26 in c:\\users\\dario\\anaconda3\\lib\\site-packages (from tensorboard>=2.4.1->ultralytics==8.0.20) (0.37.1)\n",
      "Requirement already satisfied: protobuf<3.20,>=3.9.2 in c:\\users\\dario\\anaconda3\\lib\\site-packages (from tensorboard>=2.4.1->ultralytics==8.0.20) (3.9.2)\n",
      "Requirement already satisfied: grpcio>=1.24.3 in c:\\users\\dario\\appdata\\roaming\\python\\python39\\site-packages (from tensorboard>=2.4.1->ultralytics==8.0.20) (1.54.0)\n",
      "Requirement already satisfied: werkzeug>=1.0.1 in c:\\users\\dario\\anaconda3\\lib\\site-packages (from tensorboard>=2.4.1->ultralytics==8.0.20) (2.0.3)\n",
      "Requirement already satisfied: markdown>=2.6.8 in c:\\users\\dario\\anaconda3\\lib\\site-packages (from tensorboard>=2.4.1->ultralytics==8.0.20) (3.3.4)\n",
      "Requirement already satisfied: tensorboard-plugin-wit>=1.6.0 in c:\\users\\dario\\appdata\\roaming\\python\\python39\\site-packages (from tensorboard>=2.4.1->ultralytics==8.0.20) (1.8.1)\n",
      "Requirement already satisfied: jinja2 in c:\\users\\dario\\anaconda3\\lib\\site-packages (from torch>=1.7.0->ultralytics==8.0.20) (2.11.3)\n",
      "Requirement already satisfied: sympy in c:\\users\\dario\\anaconda3\\lib\\site-packages (from torch>=1.7.0->ultralytics==8.0.20) (1.10.1)\n",
      "Requirement already satisfied: typing-extensions in c:\\users\\dario\\anaconda3\\lib\\site-packages (from torch>=1.7.0->ultralytics==8.0.20) (4.5.0)\n",
      "Requirement already satisfied: filelock in c:\\users\\dario\\anaconda3\\lib\\site-packages (from torch>=1.7.0->ultralytics==8.0.20) (3.6.0)\n",
      "Requirement already satisfied: networkx in c:\\users\\dario\\anaconda3\\lib\\site-packages (from torch>=1.7.0->ultralytics==8.0.20) (2.8.4)\n",
      "Requirement already satisfied: colorama in c:\\users\\dario\\anaconda3\\lib\\site-packages (from tqdm>=4.64.0->ultralytics==8.0.20) (0.4.6)\n",
      "Requirement already satisfied: prompt-toolkit!=3.0.0,!=3.0.1,<3.1.0,>=2.0.0 in c:\\users\\dario\\anaconda3\\lib\\site-packages (from ipython->ultralytics==8.0.20) (3.0.20)\n",
      "Requirement already satisfied: matplotlib-inline in c:\\users\\dario\\anaconda3\\lib\\site-packages (from ipython->ultralytics==8.0.20) (0.1.6)\n",
      "Requirement already satisfied: pickleshare in c:\\users\\dario\\anaconda3\\lib\\site-packages (from ipython->ultralytics==8.0.20) (0.7.5)\n",
      "Requirement already satisfied: jedi>=0.16 in c:\\users\\dario\\anaconda3\\lib\\site-packages (from ipython->ultralytics==8.0.20) (0.18.1)\n",
      "Requirement already satisfied: traitlets>=4.2 in c:\\users\\dario\\anaconda3\\lib\\site-packages (from ipython->ultralytics==8.0.20) (5.1.1)\n",
      "Requirement already satisfied: decorator in c:\\users\\dario\\anaconda3\\lib\\site-packages (from ipython->ultralytics==8.0.20) (5.1.1)\n",
      "Requirement already satisfied: pygments in c:\\users\\dario\\anaconda3\\lib\\site-packages (from ipython->ultralytics==8.0.20) (2.11.2)\n",
      "Requirement already satisfied: backcall in c:\\users\\dario\\anaconda3\\lib\\site-packages (from ipython->ultralytics==8.0.20) (0.2.0)\n",
      "Requirement already satisfied: pyasn1-modules>=0.2.1 in c:\\users\\dario\\anaconda3\\lib\\site-packages (from google-auth<3,>=1.6.3->tensorboard>=2.4.1->ultralytics==8.0.20) (0.2.8)\n",
      "Requirement already satisfied: six>=1.9.0 in c:\\users\\dario\\anaconda3\\lib\\site-packages (from google-auth<3,>=1.6.3->tensorboard>=2.4.1->ultralytics==8.0.20) (1.16.0)\n",
      "Requirement already satisfied: cachetools<6.0,>=2.0.0 in c:\\users\\dario\\appdata\\roaming\\python\\python39\\site-packages (from google-auth<3,>=1.6.3->tensorboard>=2.4.1->ultralytics==8.0.20) (5.3.0)\n",
      "Requirement already satisfied: rsa<5,>=3.1.4 in c:\\users\\dario\\anaconda3\\lib\\site-packages (from google-auth<3,>=1.6.3->tensorboard>=2.4.1->ultralytics==8.0.20) (4.9)\n",
      "Requirement already satisfied: requests-oauthlib>=0.7.0 in c:\\users\\dario\\appdata\\roaming\\python\\python39\\site-packages (from google-auth-oauthlib<0.5,>=0.4.1->tensorboard>=2.4.1->ultralytics==8.0.20) (1.3.1)\n",
      "Requirement already satisfied: parso<0.9.0,>=0.8.0 in c:\\users\\dario\\anaconda3\\lib\\site-packages (from jedi>=0.16->ipython->ultralytics==8.0.20) (0.8.3)\n",
      "Requirement already satisfied: wcwidth in c:\\users\\dario\\anaconda3\\lib\\site-packages (from prompt-toolkit!=3.0.0,!=3.0.1,<3.1.0,>=2.0.0->ipython->ultralytics==8.0.20) (0.2.5)\n",
      "Requirement already satisfied: MarkupSafe>=0.23 in c:\\users\\dario\\anaconda3\\lib\\site-packages (from jinja2->torch>=1.7.0->ultralytics==8.0.20) (2.0.1)\n",
      "Requirement already satisfied: mpmath>=0.19 in c:\\users\\dario\\anaconda3\\lib\\site-packages (from sympy->torch>=1.7.0->ultralytics==8.0.20) (1.2.1)\n",
      "Requirement already satisfied: pyasn1<0.5.0,>=0.4.6 in c:\\users\\dario\\anaconda3\\lib\\site-packages (from pyasn1-modules>=0.2.1->google-auth<3,>=1.6.3->tensorboard>=2.4.1->ultralytics==8.0.20) (0.4.8)\n",
      "Requirement already satisfied: oauthlib>=3.0.0 in c:\\users\\dario\\anaconda3\\lib\\site-packages (from requests-oauthlib>=0.7.0->google-auth-oauthlib<0.5,>=0.4.1->tensorboard>=2.4.1->ultralytics==8.0.20) (3.2.2)\n"
     ]
    },
    {
     "name": "stderr",
     "output_type": "stream",
     "text": [
      "WARNING: Ignoring invalid distribution -ensorflow-intel (c:\\users\\dario\\appdata\\roaming\\python\\python39\\site-packages)\n",
      "WARNING: Ignoring invalid distribution -ensorflow-intel (c:\\users\\dario\\appdata\\roaming\\python\\python39\\site-packages)\n",
      "WARNING: Ignoring invalid distribution -ensorflow-intel (c:\\users\\dario\\appdata\\roaming\\python\\python39\\site-packages)\n",
      "WARNING: Ignoring invalid distribution -ensorflow-intel (c:\\users\\dario\\appdata\\roaming\\python\\python39\\site-packages)\n",
      "WARNING: Ignoring invalid distribution -ensorflow-intel (c:\\users\\dario\\appdata\\roaming\\python\\python39\\site-packages)\n",
      "WARNING: Ignoring invalid distribution -ensorflow-intel (c:\\users\\dario\\appdata\\roaming\\python\\python39\\site-packages)\n"
     ]
    }
   ],
   "source": [
    "!pip install -r requirements.txt\n",
    "!pip install ultralytics==8.0.20"
   ]
  },
  {
   "cell_type": "code",
   "execution_count": 2,
   "id": "75d2e4de-7b64-4d18-8c69-cd2749ad88da",
   "metadata": {},
   "outputs": [],
   "source": [
    "from ultralytics import YOLO\n",
    "import numpy as np\n",
    "from PIL import Image\n",
    "import requests\n",
    "from io import BytesIO\n",
    "import cv2\n",
    "import os\n",
    "import shutil"
   ]
  },
  {
   "cell_type": "markdown",
   "id": "260144d3-e79c-4b43-8f8a-5224ac89aeab",
   "metadata": {},
   "source": [
    "## Segmentation\n",
    "\n",
    "Perform the segmentation and save the binary segments"
   ]
  },
  {
   "cell_type": "code",
   "execution_count": 3,
   "id": "17485bb4-f291-4589-8d92-0e8466d8efe1",
   "metadata": {},
   "outputs": [],
   "source": [
    "# Choose model\n",
    "model = YOLO(\"yolov8s-seg.pt\")"
   ]
  },
  {
   "cell_type": "code",
   "execution_count": 4,
   "id": "e50c369c-4f60-48c6-9f57-19e53a78e0c0",
   "metadata": {},
   "outputs": [
    {
     "name": "stdout",
     "output_type": "stream",
     "text": [
      "Found file: im09.jpg\n"
     ]
    },
    {
     "name": "stderr",
     "output_type": "stream",
     "text": [
      "Ultralytics YOLOv8.0.20  Python-3.9.13 torch-2.0.1+cpu CPU\n",
      "YOLOv8s-seg summary (fused): 195 layers, 11810560 parameters, 0 gradients, 42.6 GFLOPs\n"
     ]
    },
    {
     "name": "stdout",
     "output_type": "stream",
     "text": [
      "File saved at  ../runs/segment/predict/images\\im09_segmented.jpg\n",
      "Found file: im1.jpg\n",
      "File saved at  ../runs/segment/predict/images\\im1_segmented.jpg\n",
      "Found file: im10.jpg\n",
      "File saved at  ../runs/segment/predict/images\\im10_segmented.jpg\n",
      "Found file: im11.jpg\n",
      "File saved at  ../runs/segment/predict/images\\im11_segmented.jpg\n",
      "Found file: im12.jpg\n",
      "File saved at  ../runs/segment/predict/images\\im12_segmented.jpg\n",
      "Found file: im13.jpg\n",
      "File saved at  ../runs/segment/predict/images\\im13_segmented.jpg\n",
      "Found file: im14.jpg\n",
      "File saved at  ../runs/segment/predict/images\\im14_segmented.jpg\n",
      "Found file: im15.jpg\n",
      "File saved at  ../runs/segment/predict/images\\im15_segmented.jpg\n",
      "Found file: im2.jpg\n",
      "File saved at  ../runs/segment/predict/images\\im2_segmented.jpg\n",
      "Found file: im3.jpg\n",
      "File saved at  ../runs/segment/predict/images\\im3_segmented.jpg\n",
      "Found file: im4.jpg\n",
      "File saved at  ../runs/segment/predict/images\\im4_segmented.jpg\n",
      "Found file: im5.jpg\n",
      "File saved at  ../runs/segment/predict/images\\im5_segmented.jpg\n",
      "Found file: im6.jpg\n",
      "File saved at  ../runs/segment/predict/images\\im6_segmented.jpg\n",
      "Found file: im7.jpg\n",
      "File saved at  ../runs/segment/predict/images\\im7_segmented.jpg\n",
      "Found file: im8.jpg\n",
      "File saved at  ../runs/segment/predict/images\\im8_segmented.jpg\n"
     ]
    }
   ],
   "source": [
    "folder = r\"../Sport_scene_dataset/Images\" # Dataset location\n",
    "output_folder = r\"../runs/segment/predict/masks\"  # Where to save the masks\n",
    "output_folder_images = r\"../runs/segment/predict/images\" # Where to save the segmented images\n",
    "\n",
    "# Recreate output directories\n",
    "shutil.rmtree(output_folder)\n",
    "os.makedirs(output_folder)\n",
    "shutil.rmtree(output_folder_images)\n",
    "os.makedirs(output_folder_images)\n",
    "\n",
    "# Iterate through each file in the folder\n",
    "for filename in os.listdir(folder):\n",
    "    file_path = os.path.join(folder, filename)\n",
    "    \n",
    "    # Check if the item is a file (not a subfolder)\n",
    "    if os.path.isfile(file_path):\n",
    "        print(f'Found file: {filename}')\n",
    "    \n",
    "        # Read the image for masks creation\n",
    "        img = cv2.imread(file_path)\n",
    "    \n",
    "        # Run inference\n",
    "        results = model.predict(source=file_path, retina_masks=True, classes=0)\n",
    "    \n",
    "        imageName = filename[:-4]\n",
    "\n",
    "        # Get the masks for people (class 0)\n",
    "        if results[0].masks is None:\n",
    "            continue\n",
    "        masks = results[0].masks.data\n",
    "        people_masks = masks if len(masks) > 0 else None\n",
    "        \n",
    "        if people_masks is not None:\n",
    "            # Convert the tensor to a NumPy array\n",
    "            people_masks_np = people_masks.cpu().numpy()\n",
    "                        \n",
    "            i = 0\n",
    "            for instance_mask in people_masks_np:\n",
    "                # Get each instance and save it after resize\n",
    "                instance_mask_resized = cv2.resize(instance_mask, (img.shape[1], img.shape[0]), interpolation=cv2.INTER_LINEAR)\n",
    "                instance_mask_toSave = (instance_mask_resized > 0).astype(np.uint8) * 255\n",
    "                output_file_path = os.path.join(output_folder, f\"{imageName}_mask_{i}.png\")\n",
    "                cv2.imwrite(output_file_path, instance_mask_toSave)\n",
    "                i = i+1\n",
    "                \n",
    "                # Create a BGR image (3 channels)\n",
    "                mask = np.zeros_like(img) # Initialized to 0\n",
    "                mask[:,:,2] = instance_mask_toSave # Saved the values of the instance in the red channel\n",
    "                \n",
    "                # Overlay the red mask on the image\n",
    "                img = cv2.addWeighted(img, 1, mask, 0.8, 0)\n",
    "                \n",
    "            # Save the overlaid image\n",
    "            output_file_path = os.path.join(output_folder_images, f\"{imageName}_segmented.jpg\")\n",
    "            cv2.imwrite(output_file_path, img)\n",
    "            print(\"File saved at \", str(output_file_path))\n",
    "                \n",
    "        else:\n",
    "            print(f'No mask found for {filename}')    "
   ]
  },
  {
   "cell_type": "code",
   "execution_count": null,
   "id": "e9fcf0f0-d883-4fcf-98c3-4a76bf0fa6fd",
   "metadata": {},
   "outputs": [],
   "source": []
  }
 ],
 "metadata": {
  "kernelspec": {
   "display_name": "Python 3 (ipykernel)",
   "language": "python",
   "name": "python3"
  },
  "language_info": {
   "codemirror_mode": {
    "name": "ipython",
    "version": 3
   },
   "file_extension": ".py",
   "mimetype": "text/x-python",
   "name": "python",
   "nbconvert_exporter": "python",
   "pygments_lexer": "ipython3",
   "version": "3.9.13"
  }
 },
 "nbformat": 4,
 "nbformat_minor": 5
}
